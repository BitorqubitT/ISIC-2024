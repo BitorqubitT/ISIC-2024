{
 "cells": [
  {
   "cell_type": "markdown",
   "metadata": {},
   "source": [
    "# Ideas\n",
    "- Use data from other comps\n",
    "- Ugly duck strat -> compare inpatient features to find \"outliers\"\n",
    "- Can we calc features from old data or train a cnn -> can also increase feature data this awy\n",
    "- Features only, image only, combine \n",
    "\n",
    "# TODOS\n",
    "- create EDA\n",
    "- Import features only\n",
    "- Clean data, plot distributions\n",
    "- create simple pipeline"
   ]
  },
  {
   "cell_type": "code",
   "execution_count": 2,
   "metadata": {},
   "outputs": [
    {
     "name": "stdout",
     "output_type": "stream",
     "text": [
      "test\n"
     ]
    }
   ],
   "source": [
    "print(\"test\")"
   ]
  }
 ],
 "metadata": {
  "kernelspec": {
   "display_name": "Python 3",
   "language": "python",
   "name": "python3"
  },
  "language_info": {
   "codemirror_mode": {
    "name": "ipython",
    "version": 3
   },
   "file_extension": ".py",
   "mimetype": "text/x-python",
   "name": "python",
   "nbconvert_exporter": "python",
   "pygments_lexer": "ipython3",
   "version": "3.12.3"
  }
 },
 "nbformat": 4,
 "nbformat_minor": 2
}
